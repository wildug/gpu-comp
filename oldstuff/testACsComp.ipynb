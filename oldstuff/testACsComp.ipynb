{
 "cells": [
  {
   "cell_type": "markdown",
   "metadata": {},
   "source": [
    "## Encoding a matrix in a single bitstream using ANS coding\n",
    "\n",
    "snippets taken from `https://github.com/bamler-lab/webgl-entropy-coding`"
   ]
  },
  {
   "cell_type": "markdown",
   "metadata": {},
   "source": [
    "Using Alex's Library to get **4-bit** weights:"
   ]
  },
  {
   "cell_type": "code",
   "execution_count": 1,
   "metadata": {},
   "outputs": [
    {
     "name": "stderr",
     "output_type": "stream",
     "text": [
      "2025-03-10 15:44:34.988405: E external/local_xla/xla/stream_executor/cuda/cuda_fft.cc:477] Unable to register cuFFT factory: Attempting to register factory for plugin cuFFT when one has already been registered\n",
      "WARNING: All log messages before absl::InitializeLog() is called are written to STDERR\n",
      "E0000 00:00:1741617875.010250   19665 cuda_dnn.cc:8310] Unable to register cuDNN factory: Attempting to register factory for plugin cuDNN when one has already been registered\n",
      "E0000 00:00:1741617875.016453   19665 cuda_blas.cc:1418] Unable to register cuBLAS factory: Attempting to register factory for plugin cuBLAS when one has already been registered\n",
      "2025-03-10 15:44:35.037656: I tensorflow/core/platform/cpu_feature_guard.cc:210] This TensorFlow binary is optimized to use available CPU instructions in performance-critical operations.\n",
      "To enable the following instructions: AVX2 FMA, in other operations, rebuild TensorFlow with the appropriate compiler flags.\n"
     ]
    }
   ],
   "source": [
    "from nn_compression.quantisation import gptq_quantise_network\n",
    "from nn_compression.networks import LayerwiseHessianTracker\n",
    "from data_utils.arrays import to_idx_space, find_dx\n",
    "\n",
    "import torch\n",
    "import torch.nn as nn\n",
    "import numpy as np\n",
    "import matplotlib.pyplot as plt"
   ]
  },
  {
   "cell_type": "code",
   "execution_count": 62,
   "metadata": {},
   "outputs": [
    {
     "name": "stdout",
     "output_type": "stream",
     "text": [
      "[-10  -9  -8  -7  -6  -5  -4  -3  -2  -1   0   1   2   3   4   5   6   7\n",
      "   8   9]\n",
      "20\n",
      "[-0.19753015 -0.17777714 -0.15802412 -0.13827111 -0.11851809 -0.09876508\n",
      " -0.07901206 -0.05925905 -0.03950603 -0.01975301 -0.          0.01975301\n",
      "  0.03950603  0.05925905  0.07901206  0.09876508  0.11851809  0.13827111\n",
      "  0.15802412  0.17777714]\n",
      "20\n",
      "4.067816568867111\n",
      "Entropy of 4 bit quantized weights: 4.067816568867112\n"
     ]
    },
    {
     "data": {
      "image/png": "[encoded data removed]",
      "text/plain": [
       "<Figure size 640x480 with 1 Axes>"
      ]
     },
     "metadata": {},
     "output_type": "display_data"
    }
   ],
   "source": [
    "input_dim =  40  #4096    # LLAMA 3 8B hidden dim \n",
    "output_dim = 100  #14336  # and FFN Dimension (https://arxiv.org/pdf/2407.21783 Table 3)\n",
    "\n",
    "net = nn.Linear(input_dim, output_dim)\n",
    "net.eval()\n",
    "\n",
    "x_cal = torch.randn(1, input_dim)\n",
    "netq = gptq_quantise_network(net, nbits=4, x_cal=x_cal)\n",
    "w = netq.weight.data\n",
    "\n",
    "ints = to_idx_space(w) # out integer values of w where w = ints * dx\n",
    "dx = find_dx(w) # required for floating point calc\n",
    "\n",
    "torch.all(w == ints * dx).item()\n",
    "# torch.save(ints, \"matrix.pt\")\n",
    "# ints.tofile(\"matrix.bin\")\n",
    "v, c = np.unique(ints, return_counts=True)\n",
    "plt.hist(ints.flatten(),bins=16)\n",
    "print(v)\n",
    "print(len(v))\n",
    "v,c = np.unique(w, return_counts=True)\n",
    "print(v)\n",
    "print(len(v))\n",
    "\n",
    "\n",
    "\n",
    "ps = c/(c.sum())\n",
    "ent = -np.sum(ps*np.log2(ps)) # calculte\n",
    "ent2 = np.log2(input_dim*output_dim) - c @np.log2(c) /(input_dim*output_dim)\n",
    "print(ent2)\n",
    "print(f\"Entropy of 4 bit quantized weights: {ent}\")"
   ]
  },
  {
   "cell_type": "code",
   "execution_count": 77,
   "metadata": {},
   "outputs": [
    {
     "name": "stdout",
     "output_type": "stream",
     "text": [
      "[-11  -9  -8  -7  -6  -5  -4  -3  -2  -1   0   1   2   3   4   5   6   7\n",
      "   8   9]\n",
      "20\n",
      "[-0.21726748 -0.1777643  -0.15801272 -0.13826112 -0.11850954 -0.09875795\n",
      " -0.07900636 -0.05925477 -0.03950318 -0.01975159 -0.          0.01975159\n",
      "  0.03950318  0.05925477  0.07900636  0.09875795  0.11850954  0.13826112\n",
      "  0.15801272  0.1777643 ]\n",
      "20\n",
      "4.071758079133642\n",
      "Entropy of 4 bit quantized weights: 4.071758079133644\n"
     ]
    },
    {
     "data": {
      "image/png": "[encoded data removed]",
      "text/plain": [
       "<Figure size 640x480 with 1 Axes>"
      ]
     },
     "metadata": {},
     "output_type": "display_data"
    }
   ],
   "source": [
    "seed = 54\n",
    "\n",
    "np.random.seed(seed)\n",
    "torch.manual_seed(seed)\n",
    "torch.cuda.manual_seed(seed)\n",
    "\n",
    "\n",
    "input_dim =  40  \n",
    "output_dim = 100 \n",
    "\n",
    "net = nn.Linear(input_dim, output_dim)\n",
    "net.eval()\n",
    "\n",
    "x_cal = torch.randn(1, input_dim)\n",
    "netq = gptq_quantise_network(net, nbits=4, x_cal=x_cal)\n",
    "w = netq.weight.data\n",
    "\n",
    "ints = to_idx_space(w) # out integer values of w where w = ints * dx\n",
    "dx = find_dx(w) # required for floating point calc\n",
    "\n",
    "torch.all(w == ints * dx).item()\n",
    "# torch.save(ints, \"matrix.pt\")\n",
    "# ints.tofile(\"matrix.bin\")\n",
    "v, c = np.unique(ints, return_counts=True)\n",
    "plt.hist(ints.flatten(),bins=16)\n",
    "print(v)\n",
    "print(len(v))\n",
    "v,c = np.unique(w, return_counts=True)\n",
    "print(v)\n",
    "print(len(v))\n",
    "\n",
    "\n",
    "\n",
    "ps = c/(c.sum())\n",
    "ent = -np.sum(ps*np.log2(ps)) # calculte\n",
    "ent2 = np.log2(input_dim*output_dim) - c @np.log2(c) /(input_dim*output_dim)\n",
    "print(ent2)\n",
    "print(f\"Entropy of 4 bit quantized weights: {ent}\")"
   ]
  }
 ],
 "metadata": {
  "kernelspec": {
   "display_name": "base",
   "language": "python",
   "name": "python3"
  },
  "language_info": {
   "codemirror_mode": {
    "name": "ipython",
    "version": 3
   },
   "file_extension": ".py",
   "mimetype": "text/x-python",
   "name": "python",
   "nbconvert_exporter": "python",
   "pygments_lexer": "ipython3",
   "version": "3.10.10"
  }
 },
 "nbformat": 4,
 "nbformat_minor": 2
}
