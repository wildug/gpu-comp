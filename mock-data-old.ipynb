{
 "cells": [
  {
   "cell_type": "markdown",
   "metadata": {},
   "source": [
    "# Mock Data for Compressed Matrices"
   ]
  },
  {
   "cell_type": "markdown",
   "metadata": {},
   "source": [
    "## File Format Specification"
   ]
  },
  {
   "cell_type": "markdown",
   "metadata": {},
   "source": [
    "We store $K$ compressed matrices $W_0, \\dots, W_{K-1}$, and a single uncompressed vector $v_0$.\n",
    "\n",
    "- For $k \\in \\{0, \\ldots, K-1\\}$, the matrix $W_k$ has dimension $N_{k+1} \\times N_k$.\n",
    "- The vector $v_0$ has dimension $N_0$.\n",
    "\n",
    "Thus, the statement $v_K := W_{K-1} W_{K-2} \\ldots W_0 v_0$ denotes a valid sequence of matrix-vector multiplications with matching dimensions, resulting in a vector $v_K$ with dimension $N_K$."
   ]
  },
  {
   "cell_type": "markdown",
   "metadata": {},
   "source": [
    "### Overall Container Format\n",
    "\n",
    "The overall file layout is structured as follows:\n",
    "\n",
    "$\n",
    "  \\begin{array}{|r||c|c|c|c|c|c|c|c|c|}\n",
    "      \\hline\n",
    "      \\text{data:} & K   & S_\\text{max} & N_0 & v_0     & \\texttt{pad} & W_0              & W_1              & \\cdots & W_{K-1} \\\\ \\hline\n",
    "      \\text{type:} & u32 & u32          & u32 & i8[N_0] & u8[3 - ((N_0 + 3) \\operatorname{mod} 4)]         & \\text{see below} & \\text{see below} & \\cdots & \\text{see below}   \\\\ \\hline\n",
    "  \\end{array}\n",
    "$\n",
    "\n",
    "Here,\n",
    "\n",
    "- `u<X>` (e.g., $u8$, $u32$) denotes an unsigned $X$-bit integer value;\n",
    "- `i<X>` (e.g., $i8$) denotes a signed $X$-bit integer value;\n",
    "- all numbers are stored in little endian byte order;\n",
    "- `{u, i}<X>[size]`, i.e., a type followed by braces (e.g., $i8[N_0]$) denotes a densely packed array of `size` elements of the same type;\n",
    "- $S_\\text{max}$ is the maximum size of the compressed representation (see below) of any of the involved matrices $W_0, \\ldots, W_{K-1}$, including matrix headers (as described below), measured in units of 16 bit (2 byte).\n",
    "- `pad` contains either 0, 1, 2, or 3 bytes whose values will be ignored by the decoder;\n",
    "  its length $l_\\text{pad} \\in \\{0,1,2,3\\}$ is determined such that $N_0 + l_\\text{pad}$ is an integer multiple of $4$, so that the subsequent fields can be 32-bit aligned;\n",
    "- the compressed representation of the matrices $W_0, \\ldots, W_{K-1}$ is detailed below."
   ]
  },
  {
   "cell_type": "markdown",
   "metadata": {},
   "source": [
    "### Matrix Container Format\n",
    "\n",
    "In the above overall container format, each matrix $W_k$ for $k\\in \\{0,\\ldots,K-1\\}$ is stored in the following layout:\n",
    "\n",
    "$\n",
    "  \\begin{array}{|r||c|c|c|c|c|c|c|c|c|c|}\n",
    "      \\hline\n",
    "      \\text{data:} & N_{k} & N_{k+1} & \\delta & \\texttt{cursors} & \\texttt{payload\\_size} & \\hat{w}_\\text{min} & |G| & \\texttt{cdf} & \\texttt{pad} & \\texttt{payload} \\\\ \\hline\n",
    "      \\text{type:} & u32   & u32     & f32    & u32[N_{k+1}]     & u32                    & i8                 & u8  & u8[|G| + 1]  & u8[(|G|+1) \\operatorname{mod} 2]                    & u16[\\texttt{payload\\_size}] \\\\ \\hline\n",
    "  \\end{array}\n",
    "$\n",
    "\n",
    "- **TODO:** maybe we should flush the coders after each matrix. The overhead is negligible (32 bit per matrix row, i.e., same as the overhead for the `cursors`)\n",
    "\n",
    "Here,\n",
    "\n",
    "- $\\delta$ is the distance between neighboring grid points; i.e., if $\\hat{W}_k \\in \\mathbb{Z}^{N_{k+1}\\times N_k}$ is the integer representation of the decoded quantized matrix, then the true quantized matrix is $W_k = \\delta \\hat{W}_k$, and thus, for a vector-matrix multiplication $v_{k+1} := W_k v_k$, we have $v_{k+1} = \\delta \\hat{v}_{k+1}$ where $\\hat{v}_{k+1} := \\hat{W}_k v_k$.\n",
    "- `cursors` is an array of the size of the output dimension $N_{k+1}$ which, for each matrix row, contains an offset into `payload` where additional compressed data for this matrix row (if needed) starts; offsets are measured in units of 16 bit (2 byte), and relative to the start of the `payload` field (thus, `cursors[0]` is always `0`);\n",
    "- `payload_size` is the length of the `payload` field, measured in units of 16 bit (2 byte);\n",
    "  since the `payload_size` field directly follows the `cursors` field, `payload_size` can be interpreted as an $(N_{k+1}+1)$-th cursor pointing to where the compressed data for an additional matrix row would start if there was one more matrix row.\n",
    "  - Due to payload padding (see below), `payload_size` is always even (so that all compressed matrix structs are 32-bit aligned).\n",
    "- $\\hat{w}_\\text{min}$ is the smallest value present in the integer representation $\\hat{W}_k$ of the quantized matrix.\n",
    "- $|G|$ is the grid size; we assume a uniform grid, i.e., the integer representation $\\hat{W}_k$ of the quantized matrix takes only values from the range $\\{\\hat{w}_\\text{min}, {\\hat{w}_\\text{min} + 1}, \\ldots, {\\hat{w}_\\text{min} + |G| - 1}\\}$.\n",
    "- `cdf` is the cumulative distribution function of the entropy model in 8-bit unsigned integer representation.\n",
    "  Its interpretation is that it defines a probability mass function (PMF) via $\\texttt{pmf}[r] := (\\texttt{cdf}[r + 1] - \\texttt{cdf}[r]) \\operatorname{mod} 2^8 \\;\\forall r \\in \\{0, 1, \\ldots, |G|-1\\}$.\n",
    "  Here, the \"$\\operatorname{mod} 2^8$\" wraps only for the last entry, $\\texttt{pmf}[|G|-1] = {(0 - \\texttt{cdf}[r]) \\operatorname{mod} 2^8} = 2^8 - \\texttt{cdf}[|G|-1]$, which is enforced by the requirements $\\texttt{cdf}[|G|] = 0$ and $\\texttt{cdf}[|G|-1] > 0$, see below, and the fact that $\\texttt{cdf}[|G|-1] < 2^8$ since $\\texttt{cdf}[|G|-1]$ is an unsigned 8-bit integer.\n",
    "  The `cdf` it satisfies the following properties:\n",
    "  - The first $|G|$ entries of `cdf` make up a nonincreasing sequence: `cdf[0] <= cdf[1] <= ... <= cdf[|G| - 1]`.\n",
    "  - `cdf[0] = cdf[|G|] = 0`.\n",
    "  - `cdf[|G| - 1] > 0` (which implies that $|G| \\geq 2$ since `cdf[0] = 0`);\n",
    "    thus, the entropy model must not represent a delta distribution that puts all probability mass on a single grid point;\n",
    "    this requirement enables a simplification in the implementation of the ANS algorithm while anyway only affecting the pathological edge case where all matrix elements of $\\hat{W}_k$ are equal.\n",
    "    This pathological edge case can still be treated efficiently, e.g., by setting $|G|=2$, setting $\\hat{w}_\\text{min}$ to the value taken by all matrix elements, and setting $\\texttt{cdf} = [0, 255, 0]$.\n",
    "    With these settings, the entropy model puts almost all probability mass on the entry taken by all matrix elements and only a tiny probability mass on an irrelevant dummy grid point, resulting in a cross entropy of $\\log_2(\\frac{256}{255}) \\approx 0.0056$ bit per matrix element.\n",
    "  - If `cdf[r] = cdf[r + 1]` for some $r \\in \\{0, \\ldots, {|G|-2}\\}$, then this means that the entropy model assigns zero probability mass to the value ${\\hat{w}_\\text{min} + r}$, and therefore $\\hat{W}_k$ must not contain any matrix entry with value ${\\hat{w}_\\text{min} + r}$ because this value cannot be encoded with this entropy model.\n",
    "- `pad` is either nothing or a single byte with arbitrary value that should be ignored by the decoder.\n",
    "  This byte is inserted if the grid size $|G|$ is even to ensure that the `payload` can be properly 16-bit aligned.\n",
    "- `payload` contains the compressed data, see below."
   ]
  },
  {
   "cell_type": "markdown",
   "metadata": {},
   "source": [
    "### Compressed Bit String Representation & Decoding\n",
    "\n",
    "We define the format of the `payload` field in the above matrix container format by specifying the decoding process.\n",
    "The encoding algorithm follows from this specification as encoding is inference over a decoder.\n",
    "\n",
    "When decoding the $k$-th matrix with dimensions $N_{k+1}\\times N_k$, the decoder operates on the $N_{k+1}$ matrices independently (and thus, possibly in parallel).\n",
    "All decoders need read access to the shared `cdf` of the entropy model, the shared `payload` of the compressed matrix, and a coder-specific cursor $C_i$ that gets initialized at the beginning of each matrix-decoding process from `cursor[i]` declared in the matrix container format.\n",
    "A practical implementation will likely also want to create a shared `ppf` lookup table that stores the inverse of `cdf` to speed up steps 2 and 3 below.\n",
    "\n",
    "Decoding the $i$-th row of matrix $W_k$ works as follows:\n",
    "\n",
    "- Initialize the row's cursor $C_i \\gets \\texttt{cursors}[i]$, where `cursors` is a field of the matrix container format specified above.\n",
    "- Initialize an unsigned 32-bit coder state $S_i \\gets (\\texttt{payload}[C_i] \\ll 16) \\;|\\; \\texttt{payload}[C_i+1]$, where \"$\\ll$\" denotes left bit-shift and \"$|$\" denotes bitwise or.\n",
    "  Thus, the 32-bit coder state $S_i$ is initialized to the concatenation of the first two 16-bit words read off the `payload` starting from the row's initial cursor.\n",
    "- Increment the curser accordingly: $C_i \\gets C_i + 2$.\n",
    "- For each column $j \\in \\{0,\\ldots,N_k-1\\}$ (in ascending order) do:\n",
    "  1. Set `quantile` ← least significant 8 bits of the coder state $S_i$\n",
    "  2. Set `r` to the uniquely defined number in $\\{0,\\ldots,|G|-1\\}$ such that `cdf[r] <= quantile < cdf[r+1]`.\n",
    "  3. Set the (integer representation of the) decoded matrix element to $(\\hat{W}_k)_{ij} \\gets r + \\hat{w}_\\text{min}$.\n",
    "  4. Update the coder state $S_i \\gets (S_i \\gg 8) \\times$ `((cdf[r+1] - cdf[r]) mod 256)` + `(quantile - cdf[r])`,\n",
    "     where \"$\\gg$\" denotes left bit shift (that is _unsigned_, i.e., it fills from the right with zero bits).\n",
    "  5. If $S_i < 2^{16}$ (i.e., if the 16 most significant bits of the 32-bit number $S_i$ are all zero, or, equivalently, if $(S_i \\gg 16) = 0$), then:\n",
    "     - Update $S_i \\gets (S_i \\ll 16) \\;|\\; \\texttt{payload}[C_i]$,\n",
    "       where \"$\\ll$\" denotes left bit shift, and \"$|$\" denotes bitwise `or` (this update can be understood as concatenating $\\texttt{payload}[C_i]$ to $S_i$ since $\\texttt{payload}[C_i]$ is a 16-bit unsigned integer).\n",
    "     - Increment $C_i \\gets C_i + 1$."
   ]
  },
  {
   "cell_type": "markdown",
   "metadata": {},
   "source": [
    "### Encoding\n",
    "\n",
    "A valid encoder is any program that generates a file in the format specified above such that decoding the file with the decoding algorithm specified above generates the desired (quantized) matrices $\\hat{W}_0, \\ldots, \\hat{W}_{K-1}$.\n",
    "\n",
    "In practice, encoding a quantized matrix $W_k$ of shape $N_{k+1} \\times N_k$ can be performed as follows:\n",
    "\n",
    "- Prepare an integer representation $\\hat{W}_k \\in \\mathbb{Z}^{N_k \\times N_{k+1}}$ of the quantized matrix and determine its minimum $\\hat{w}_\\text{min} := \\min_{i,j} (\\hat{W}_k)_{ij}$ and grid size $|G| := \\max_{i,j} (\\hat{W}_k)_{ij} - \\hat{w}_\\text{min} + 1 \\ge 2$.\n",
    "- Prepare a suitable `cdf` for $\\hat{W}_k$.\n",
    "- Initialize `reverse_payload` ← empty growable array of `u16`.\n",
    "- For each row $i \\in \\{0,\\ldots,N_{k+1}-1\\}$ in _descending_ order, do (note: this could be parallelized without changing the result):\n",
    "  - Initialize an unsigned 32-bit coder state $S \\gets 2^{16}$.\n",
    "  - For each column $j \\in \\{0,\\ldots,N_k-1\\}$ in _descending_ order, do:\n",
    "    1. Set $r \\gets (\\hat{W}_k)_{ij} - \\hat{w}_\\text{min}$; (thus, $r \\in \\{0,\\ldots, |G|-1\\}$).\n",
    "    2. Set `probability ← (cdf[r+1] - cdf[r]) mod 256`.\n",
    "    3. If $(S \\gg 24) \\geq \\texttt{probability}$ (i.e., if dividing $S$ by `probability` and then shifting it by 8 bit to the left would overflow its 32-bit size):\n",
    "       - Push the 16 least significant bits of $S$ to the end of `reverse_payload`.\n",
    "       - Update $S \\gets (S \\gg 16)$.\n",
    "    4. Set $\\texttt{quantile} \\gets \\texttt{cdf}[r] + (S \\,\\operatorname{mod}\\, \\texttt{probability})$;\n",
    "       thus, $\\texttt{quantile} \\in \\{0, \\ldots, 255\\}$.\n",
    "    5. Update $S \\gets (\\lfloor S / \\texttt{probability} \\rfloor \\ll 8) \\;|\\; \\texttt{quantile}$,\n",
    "       where \"$\\lfloor \\,\\cdot\\,\\rfloor$\" denotes rounding down to an integer.\n",
    "  - Push first the least significant 16 bit and then the most significant 16 bit of $S$ to the end of `reverse_payload`.\n",
    "  - Set `back_cursor[i] ← length(reverse_payload)`, where length is measured in units of 16 bit.\n",
    "- Obtain `payload` by reversing the order of elements in the array `reverse_payload`.\n",
    "- For each $i \\in \\{0,\\ldots,N_{k+1}-1\\}$, set `cursor[i] ← length(payload) - back_cursor[i]`.\n",
    "  Thus, we should have `cursor[0] = 0`.\n",
    "- if `payload` has an odd length (i.e., contains an odd number of `u16`s), then append a single additional `u16` with arbitrary value (e.g., zero) to it to make it an even length."
   ]
  },
  {
   "cell_type": "code",
   "execution_count": 12,
   "metadata": {},
   "outputs": [],
   "source": [
    "import numpy as np\n",
    "from tqdm import tqdm\n",
    "import pickle\n",
    "import matplotlib.pyplot as plt\n",
    "from matplotlib.ticker import FuncFormatter\n",
    "import struct\n",
    "import sys"
   ]
  },
  {
   "cell_type": "markdown",
   "metadata": {},
   "source": [
    "## Create Random Quantized Matrices"
   ]
  },
  {
   "cell_type": "code",
   "execution_count": 13,
   "metadata": {},
   "outputs": [
    {
     "name": "stdout",
     "output_type": "stream",
     "text": [
      "mins: [-19 -19 -20 -21 -20 -19 -18 -19 -18 -20]\n",
      "maxs: [18 20 21 20 19 18 18 18 18 18]\n"
     ]
    },
    {
     "data": {
      "image/png": "[encoded data removed]",
      "text/plain": [
       "<Figure size 1000x300 with 10 Axes>"
      ]
     },
     "metadata": {},
     "output_type": "display_data"
    }
   ],
   "source": [
    "np.random.seed(20250310)\n",
    "matrices = np.random.randn(10, 1024, 1024)\n",
    "quantized_matrices = np.round(matrices * 4).astype(np.int8)\n",
    "print(f'mins: {quantized_matrices.min(axis=(1, 2))}')\n",
    "print(f'maxs: {quantized_matrices.max(axis=(1, 2))}')\n",
    "\n",
    "fig, axs = plt.subplots(2, 5, figsize=(10, 3), sharex=True, sharey=True, tight_layout=True)\n",
    "bins = np.arange(-np.abs(quantized_matrices).max() - 0.5, np.abs(quantized_matrices).max() + 1.5)\n",
    "for i, ax in enumerate(axs.flat):\n",
    "    ax.hist(quantized_matrices[i ].ravel(), bins=bins)\n",
    "    ax.set_title(r'$\\hat{W}_{' + str(i ) + r'}$')\n",
    "\n",
    "vector = np.round(np.random.randn(1024) * 4).astype(np.int8)"
   ]
  },
  {
   "cell_type": "markdown",
   "metadata": {},
   "source": [
    "## Create Entropy Models"
   ]
  },
  {
   "cell_type": "code",
   "execution_count": 14,
   "metadata": {},
   "outputs": [],
   "source": [
    "def create_entropy_model(data, precision):\n",
    "    min_value = data.min().item()\n",
    "    max_value = data.max().item()\n",
    "\n",
    "    if min_value == max_value:\n",
    "        # Special case: all values are the same. Due to a limitation of ANS coding, we have\n",
    "        # to create a dummy extra grid point with the smallest possible nonzero probability.\n",
    "        grid_size = 2\n",
    "        cdf = np.array([0, (1 << precision) - 1, 1 << precision], dtype=np.uint16)\n",
    "        entropy = 0\n",
    "        # To avoid loss of precision, we use `log1p(x) := log(1 + x)`, and thus:\n",
    "        # cross_entropy = - log2((2^p - 1) / 2^p) = - log2(1 - 1 / 2^p) = - log1p(-1 / 2^p) / log(2)\n",
    "        cross_entropy = - np.log1p(-1 / (1 << precision)) / np.log(2)\n",
    "    else:\n",
    "        grid_size = max_value - min_value + 1\n",
    "        values, counts = np.unique(data, return_counts=True)\n",
    "\n",
    "        # Sort descendingly by `counts`.\n",
    "        order = np.argsort(counts)[::-1]\n",
    "        values = values[order]\n",
    "        counts = counts[order]\n",
    "\n",
    "        scale = (1 << precision) / data.size\n",
    "        probs = np.maximum(1, np.round(counts * scale).astype(np.uint16))\n",
    "\n",
    "        excess = sum(probs).item() - (1 << precision)\n",
    "        if excess > 0:\n",
    "            # Shave off some probability mass from the most probable entries\n",
    "            assert excess <= len(counts)\n",
    "            while excess > 0:\n",
    "                num_reducible_entries = (probs > 1).sum()\n",
    "                num_reduce = min(excess, num_reducible_entries)\n",
    "                assert num_reduce > 0\n",
    "                probs[:num_reduce] -= 1\n",
    "                excess -= num_reduce\n",
    "            probs[:excess] -= 1\n",
    "        elif excess < 0:\n",
    "            # Spread some probability mass to the least probable entries.\n",
    "            probs[excess:] += 1\n",
    "\n",
    "        assert probs.sum() == 1 << precision\n",
    "\n",
    "        entropy = np.log2(data.size) - (counts @ np.log2(counts)) / data.size\n",
    "        cross_entropy = precision - (counts @ np.log2(probs)) / data.size\n",
    "\n",
    "        padded_pmf = np.zeros(grid_size + 1, dtype=np.uint16)\n",
    "        for value, prob in zip(values, probs):\n",
    "            padded_pmf[value - min_value + 1] = prob\n",
    "\n",
    "        cdf = np.cumsum(padded_pmf, dtype=np.uint16)\n",
    "        assert cdf[0] == 0\n",
    "        assert cdf[-1] == 1 << precision\n",
    "\n",
    "    return min_value, grid_size, cdf, entropy, cross_entropy"
   ]
  },
  {
   "cell_type": "markdown",
   "metadata": {},
   "source": [
    "### Evaluate Overhead for Various `precision`s"
   ]
  },
  {
   "cell_type": "code",
   "execution_count": 15,
   "metadata": {},
   "outputs": [
    {
     "name": "stderr",
     "output_type": "stream",
     "text": [
      "100%|██████████| 4/4 [00:00<00:00,  4.20it/s]\n"
     ]
    },
    {
     "data": {
      "image/png": "[encoded data removed]",
      "text/plain": [
       "<Figure size 500x400 with 3 Axes>"
      ]
     },
     "metadata": {},
     "output_type": "display_data"
    }
   ],
   "source": [
    "precisions = [6, 8, 10, 12]\n",
    "avg_cross_entropies = []\n",
    "\n",
    "for precision in tqdm(precisions):\n",
    "    entropies = []\n",
    "    cross_entropies = []\n",
    "\n",
    "    for matrix in quantized_matrices:\n",
    "        min_value, grid_size, cdf, entropy, cross_entropy = create_entropy_model(matrix, precision)\n",
    "        entropies.append(entropy)\n",
    "        cross_entropies.append(cross_entropy)\n",
    "\n",
    "    avg_cross_entropies.append(np.mean(cross_entropies))\n",
    "\n",
    "avg_entropy = np.mean(entropies)\n",
    "\n",
    "fig, (ax1, ax2) = plt.subplots(2, 1, figsize=(5, 4), sharex=True, tight_layout=True)\n",
    "ax1.plot(precisions, avg_cross_entropies, 'o-', label='avg. cross entropy per matrix entry [bit]')\n",
    "xlims = ax1.get_xlim()\n",
    "ax1.hlines(avg_entropy, *xlims, 'tab:orange', '--', label='avg. entropy per matrix entry [bit]', zorder=-1)\n",
    "ax1.set_xlim(*xlims)\n",
    "\n",
    "ax2.plot(precisions, np.array(avg_cross_entropies) - avg_entropy, '+-', label='avg. absolute overhead per\\nmatrix entry [bit] (left y-axis)')\n",
    "ax2r = ax2.twinx()\n",
    "ax2r.plot(\n",
    "    precisions,\n",
    "    np.array(avg_cross_entropies) / avg_entropy - 1,\n",
    "    'x--',\n",
    "    color='tab:red',\n",
    "    label='avg. relative overhead per\\nmatrix entry (right y-axis)'\n",
    ")\n",
    "\n",
    "ax1.set_xlabel('precision [bit]')\n",
    "ax2.set_xlabel('precision [bit]')\n",
    "\n",
    "ax1.legend()\n",
    "ax2.legend(loc='upper right')\n",
    "ax2r.legend(loc='upper right', bbox_to_anchor=(1, 0.62))\n",
    "ax2r.yaxis.set_major_formatter(FuncFormatter(lambda y, _: f'{y * 100:.0f} %')) "
   ]
  },
  {
   "cell_type": "markdown",
   "metadata": {},
   "source": [
    "## Entropy Coder"
   ]
  },
  {
   "cell_type": "code",
   "execution_count": 16,
   "metadata": {},
   "outputs": [],
   "source": [
    "class AnsCoder:\n",
    "    def __init__(self, precision, word_size, compressed=[]):\n",
    "        self.precision = precision\n",
    "        self.word_size = word_size\n",
    "        self.word_mask = (1 << word_size) - 1\n",
    "        self.quantile_mask = (1 << precision) - 1\n",
    "        self.bulk = compressed.copy()\n",
    "        self.head = 0\n",
    "        while len(self.bulk) != 0 and (self.head >> word_size) == 0:\n",
    "            self.head = (self.head << word_size) | self.bulk.pop()\n",
    "\n",
    "    def push(self, symbol, cdf):\n",
    "        prob = (cdf[symbol + 1] - cdf[symbol]).item()\n",
    "        if (self.head >> (2 * self.word_size - self.precision)) >= prob:\n",
    "            self.bulk.append(self.head & self.word_mask)\n",
    "            self.head >>= self.word_size\n",
    "\n",
    "        # print(f'pushing {symbol} with prob {prob} and cdf {cdf[symbol]} onto {self.head}')\n",
    "        z = self.head % prob + cdf[symbol].item()\n",
    "        self.head = ((self.head // prob) << self.precision) | z\n",
    "\n",
    "    def pop(self, cdf):\n",
    "        z = self.head & self.quantile_mask\n",
    "        self.head >>= self.precision\n",
    "        symbol = cdf.searchsorted(z, side='right').item() - 1\n",
    "        prob = (cdf[symbol + 1] - cdf[symbol]).item()\n",
    "        self.head = self.head * prob + (z - cdf[symbol].item())\n",
    "        if (self.head >> self.word_size) == 0 and len(self.bulk) != 0:\n",
    "            self.head = (self.head << self.word_size) | self.bulk.pop()\n",
    "        return symbol\n",
    "\n",
    "    def get_compressed(self):\n",
    "        compressed = self.bulk.copy()\n",
    "        head = self.head\n",
    "        while head != 0:\n",
    "            compressed.append(head & self.word_mask)\n",
    "            head >>= self.word_size\n",
    "        return compressed\n",
    "    \n",
    "    def interrupt(self):\n",
    "        while self.head != 0:\n",
    "            self.bulk.append(self.head & self.word_mask)\n",
    "            self.head >>= self.word_size\n",
    "        self.head = 1 << self.word_size\n",
    "        return len(self.bulk)"
   ]
  },
  {
   "cell_type": "markdown",
   "metadata": {},
   "source": [
    "## Compress the Matrices"
   ]
  },
  {
   "cell_type": "code",
   "execution_count": 17,
   "metadata": {},
   "outputs": [],
   "source": [
    "class CompressedMatrix:\n",
    "    def __init__(self, rows, cols, grid_spacing, cursors, min_value, cdf, payload):\n",
    "        self.rows = rows\n",
    "        self.cols = cols\n",
    "        self.grid_spacing = grid_spacing\n",
    "        self.cursors = cursors\n",
    "        self.min_value = min_value\n",
    "        self.cdf = cdf\n",
    "        self.payload = payload # unpadded; will be padded to an even length upon serialization.\n",
    "    \n",
    "    def compressed_word_count(self):\n",
    "        payload_size = len(self.payload) + len(self.payload) % 2\n",
    "        return (4 + self.rows) * 2 + (3 + len(self.cdf)) // 2 + payload_size\n",
    "\n",
    "    def serialize(self, file):\n",
    "        payload_size = len(self.payload) + len(self.payload) % 2\n",
    "        file.write(struct.pack(\n",
    "            f'<LLf{self.rows}LLbB{len(self.cdf)}B',\n",
    "            self.rows,\n",
    "            self.cols,\n",
    "            self.grid_spacing,\n",
    "            *self.cursors,\n",
    "            payload_size,\n",
    "            self.min_value,\n",
    "            len(self.cdf) - 1,\n",
    "            *(self.cdf & 0xFF),\n",
    "        ))\n",
    "\n",
    "        if len(self.cdf) % 2 == 1:\n",
    "            file.write(b'\\0')\n",
    "\n",
    "        if sys.byteorder == 'little':\n",
    "            self.payload.tofile(file)\n",
    "        else:\n",
    "            self.payload.byteswap().tofile(file)\n",
    "\n",
    "        if len(self.payload) % 2 == 1:\n",
    "            file.write(b'\\0\\0')\n"
   ]
  },
  {
   "cell_type": "code",
   "execution_count": 18,
   "metadata": {},
   "outputs": [],
   "source": [
    "def encode_matrix(matrix, precision = 8):\n",
    "    min_value, _grid_size, cdf, _entropy, _cross_entropy = create_entropy_model(matrix, precision)\n",
    "    coder = AnsCoder(precision, 16, [0, 1])\n",
    "    back_cursors = np.empty(matrix.shape[0], dtype=np.uint32)\n",
    "\n",
    "    for row in range(matrix.shape[0] - 1, -1, -1): # iterates in reverse order\n",
    "        for entry in matrix[row, ::-1]: # iterates in reverse order\n",
    "            coder.push(entry.item() - min_value, cdf)\n",
    "        back_cursors[row] = coder.interrupt()\n",
    "    \n",
    "    payload = np.array(coder.bulk[::-1], dtype=np.uint16)\n",
    "    cursors = len(payload) - back_cursors\n",
    "    return CompressedMatrix(matrix.shape[0], matrix.shape[1], 1.0, cursors, min_value, cdf, payload)"
   ]
  },
  {
   "cell_type": "code",
   "execution_count": 19,
   "metadata": {},
   "outputs": [
    {
     "name": "stderr",
     "output_type": "stream",
     "text": [
      "100%|██████████| 10/10 [00:22<00:00,  2.28s/it]\n"
     ]
    }
   ],
   "source": [
    "encoded_matrices = [encode_matrix(matrix) for matrix in tqdm(quantized_matrices)]"
   ]
  },
  {
   "cell_type": "markdown",
   "metadata": {},
   "source": [
    "## Serialize to a file"
   ]
  },
  {
   "cell_type": "code",
   "execution_count": 20,
   "metadata": {},
   "outputs": [],
   "source": [
    "def serialize_file_header(file, num_matrices, max_word_count):\n",
    "    file.write(struct.pack('<LL', num_matrices, max_word_count))\n",
    "\n",
    "def serialize_vector(file, vec):\n",
    "    file.write(struct.pack('<L', len(vec)))\n",
    "    if sys.byteorder == 'little':\n",
    "        vec.astype(np.int8).tofile(file)\n",
    "    else:\n",
    "        vec.astype(np.int8).byteswap().tofile(file)\n",
    "\n",
    "    file.write(b'\\0' * (3 - (len(vec) + 3) % 4))"
   ]
  },
  {
   "cell_type": "code",
   "execution_count": 21,
   "metadata": {},
   "outputs": [
    {
     "name": "stdout",
     "output_type": "stream",
     "text": [
      "-rw-r--r-- 1 wildug wildug 5486680 24. Mär 23:37 compressed_matrices.bin\n",
      "-rw-r--r-- 1 wildug wildug 5,3M 24. Mär 23:37 compressed_matrices.bin\n"
     ]
    }
   ],
   "source": [
    "max_word_count = max(m.compressed_word_count() for m in encoded_matrices)\n",
    "\n",
    "with open('compressed_matrices.bin', 'wb') as file:\n",
    "    serialize_file_header(file, len(quantized_matrices), max_word_count)\n",
    "    serialize_vector(file, vector)\n",
    "    for matrix in encoded_matrices:\n",
    "        matrix.serialize(file)\n",
    "\n",
    "!ls -l compressed_matrices.bin\n",
    "!ls -lh compressed_matrices.bin"
   ]
  },
  {
   "cell_type": "code",
   "execution_count": 22,
   "metadata": {},
   "outputs": [
    {
     "data": {
      "text/plain": [
       "(41.900177001953125,\n",
       " [4.542749963947324, 4.130124855985332, 4.065092305783992, 4.053324527799759],\n",
       " 4.050833310206473)"
      ]
     },
     "execution_count": 22,
     "metadata": {},
     "output_type": "execute_result"
    }
   ],
   "source": [
    "54919400 * 8 / (len(quantized_matrices) * 1024**2), avg_cross_entropies, avg_entropy"
   ]
  },
  {
   "cell_type": "markdown",
   "metadata": {},
   "source": [
    "## Debugging"
   ]
  },
  {
   "cell_type": "code",
   "execution_count": 23,
   "metadata": {},
   "outputs": [],
   "source": [
    "# Checksum adapted from rust's FxHash, but restricted to 26 bit hashes so that the\n",
    "# multiplication doesn't exceed the range of exactly representable integers in JavaScript.\n",
    "def get_checksum(data):\n",
    "    checksum = 0\n",
    "    for value in data.ravel():\n",
    "        # Convert `value` into a unique positive value to avoid architecture- and\n",
    "        # precision-dependent behavior in the bit manipulations below.\n",
    "        value = value.item()\n",
    "        if value < 0:\n",
    "            # Negative `value`s are mapped to odd positive numbers ...\n",
    "            value = -2 * value + 1\n",
    "        else:\n",
    "            # ... and positive `value`s are mapped to even positive numbers.\n",
    "            value = 2 * value\n",
    "\n",
    "        checksum = ((checksum & 0x001f_ffff) << 5) | (checksum >> 21) # rotate\n",
    "        checksum = (checksum ^ value) * 0x0322_0a95\n",
    "        checksum = checksum & 0x03ff_ffff # truncate to 26 bit\n",
    "    return checksum"
   ]
  },
  {
   "cell_type": "code",
   "execution_count": 24,
   "metadata": {},
   "outputs": [
    {
     "name": "stdout",
     "output_type": "stream",
     "text": [
      "checksum of vector: 26276841\n"
     ]
    },
    {
     "name": "stdout",
     "output_type": "stream",
     "text": [
      "checksum of matrix 0: 14003483\n",
      "checksum of matrix 1: 46459754\n",
      "checksum of matrix 2: 62940825\n",
      "checksum of matrix 3: 24228632\n",
      "checksum of matrix 4: 22964300\n",
      "checksum of matrix 5: 25327833\n"
     ]
    },
    {
     "ename": "KeyboardInterrupt",
     "evalue": "",
     "output_type": "error",
     "traceback": [
      "\u001b[0;31m---------------------------------------------------------------------------\u001b[0m",
      "\u001b[0;31mKeyboardInterrupt\u001b[0m                         Traceback (most recent call last)",
      "Cell \u001b[0;32mIn[24], line 4\u001b[0m\n\u001b[1;32m      1\u001b[0m \u001b[38;5;28mprint\u001b[39m(\u001b[38;5;124mf\u001b[39m\u001b[38;5;124m'\u001b[39m\u001b[38;5;124mchecksum of vector: \u001b[39m\u001b[38;5;132;01m{\u001b[39;00mget_checksum(vector)\u001b[38;5;132;01m}\u001b[39;00m\u001b[38;5;124m'\u001b[39m)\n\u001b[1;32m      3\u001b[0m \u001b[38;5;28;01mfor\u001b[39;00m i, quantized_matrix \u001b[38;5;129;01min\u001b[39;00m \u001b[38;5;28menumerate\u001b[39m(quantized_matrices):\n\u001b[0;32m----> 4\u001b[0m     \u001b[38;5;28mprint\u001b[39m(\u001b[38;5;124mf\u001b[39m\u001b[38;5;124m'\u001b[39m\u001b[38;5;124mchecksum of matrix \u001b[39m\u001b[38;5;132;01m{\u001b[39;00mi\u001b[38;5;132;01m}\u001b[39;00m\u001b[38;5;124m: \u001b[39m\u001b[38;5;132;01m{\u001b[39;00m\u001b[43mget_checksum\u001b[49m\u001b[43m(\u001b[49m\u001b[43mquantized_matrix\u001b[49m\u001b[43m)\u001b[49m\u001b[38;5;132;01m}\u001b[39;00m\u001b[38;5;124m'\u001b[39m)\n",
      "Cell \u001b[0;32mIn[23], line 18\u001b[0m, in \u001b[0;36mget_checksum\u001b[0;34m(data)\u001b[0m\n\u001b[1;32m     16\u001b[0m     checksum \u001b[38;5;241m=\u001b[39m ((checksum \u001b[38;5;241m&\u001b[39m \u001b[38;5;241m0x001f_ffff\u001b[39m) \u001b[38;5;241m<<\u001b[39m \u001b[38;5;241m5\u001b[39m) \u001b[38;5;241m|\u001b[39m (checksum \u001b[38;5;241m>>\u001b[39m \u001b[38;5;241m21\u001b[39m) \u001b[38;5;66;03m# rotate\u001b[39;00m\n\u001b[1;32m     17\u001b[0m     checksum \u001b[38;5;241m=\u001b[39m (checksum \u001b[38;5;241m^\u001b[39m value) \u001b[38;5;241m*\u001b[39m \u001b[38;5;241m0x0322_0a95\u001b[39m\n\u001b[0;32m---> 18\u001b[0m     checksum \u001b[38;5;241m=\u001b[39m checksum \u001b[38;5;241m&\u001b[39m \u001b[38;5;241m0x03ff_ffff\u001b[39m \u001b[38;5;66;03m# truncate to 26 bit\u001b[39;00m\n\u001b[1;32m     19\u001b[0m \u001b[38;5;28;01mreturn\u001b[39;00m checksum\n",
      "\u001b[0;31mKeyboardInterrupt\u001b[0m: "
     ]
    }
   ],
   "source": [
    "print(f'checksum of vector: {get_checksum(vector)}')\n",
    "\n",
    "for i, quantized_matrix in enumerate(quantized_matrices):\n",
    "    print(f'checksum of matrix {i}: {get_checksum(quantized_matrix)}')"
   ]
  },
  {
   "cell_type": "code",
   "execution_count": null,
   "metadata": {},
   "outputs": [],
   "source": []
  }
 ],
 "metadata": {
  "kernelspec": {
   "display_name": "base",
   "language": "python",
   "name": "python3"
  },
  "language_info": {
   "codemirror_mode": {
    "name": "ipython",
    "version": 3
   },
   "file_extension": ".py",
   "mimetype": "text/x-python",
   "name": "python",
   "nbconvert_exporter": "python",
   "pygments_lexer": "ipython3",
   "version": "3.10.10"
  }
 },
 "nbformat": 4,
 "nbformat_minor": 2
}
