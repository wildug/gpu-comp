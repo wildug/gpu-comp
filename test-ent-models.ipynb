{
 "cells": [
  {
   "cell_type": "markdown",
   "metadata": {},
   "source": [
    "## Encoding a matrix in a single bitstream using ANS coding\n",
    "\n",
    "snippets taken from `https://github.com/bamler-lab/webgl-entropy-coding`"
   ]
  },
  {
   "cell_type": "markdown",
   "metadata": {},
   "source": [
    "Quantize weights using uniform grid quantization to 4 bits per weight. "
   ]
  },
  {
   "cell_type": "code",
   "execution_count": null,
   "metadata": {},
   "outputs": [],
   "source": [
    "import numpy as np\n",
    "import matplotlib.pyplot as plt"
   ]
  },
  {
   "cell_type": "code",
   "execution_count": 167,
   "metadata": {},
   "outputs": [
    {
     "name": "stdout",
     "output_type": "stream",
     "text": [
      "Unique Values: 256\n"
     ]
    }
   ],
   "source": [
    "np.random.seed(2025)\n",
    "input_dim =    4096    # LLAMA 3 8B hidden dim \n",
    "output_dim = 14336  # and FFN Dimension (https://arxiv.org/pdf/2407.21783 Table 3)\n",
    "\n",
    "weight_bits = 8 # TODO add different coarsness\n",
    "prob_bits = 12\n",
    "\n",
    "\n",
    "\"\"\"\"\n",
    "If our weights are sampled iid from an standard normal distribution the \n",
    "\"\"\"\n",
    "delta = 1/52 # TODO this value here needs to be tuned to avert an assertion error\n",
    "\n",
    "w = np.random.randn(output_dim, input_dim)\n",
    "quant_w = np.round(w / delta).astype(np.int8) # this requires manual tuning\n",
    "w_min = quant_w.flatten().min()\n",
    "# plt.hist(w.flatten()) # check that distribution of weights is not uniform\n",
    "\n",
    "v, c = np.unique(quant_w, return_counts=True)\n",
    "order = np.argsort(c)[::-1]\n",
    "v = v[order]\n",
    "c = c[order]\n",
    "\n",
    "print(f\"Unique Values: {len(v)}\")\n",
    "assert len(v) == 2**weight_bits\n",
    "assert quant_w.flatten().astype(np.uint32).max() - w_min >= 2\n"
   ]
  },
  {
   "cell_type": "code",
   "execution_count": null,
   "metadata": {},
   "outputs": [
    {
     "name": "stdout",
     "output_type": "stream",
     "text": [
      "13619.199999999999\n",
      "Excess: 211\n",
      "Entropy of 4 bit  weights with full precision: 7.6923 bits.\n",
      "Cross entropy of 4 bit  weights using 12-bit model: 7.6936 bits.\n"
     ]
    }
   ],
   "source": [
    "# creating 12 bit cdf for \n",
    "eps = (input_dim*output_dim /(1 << (prob_bits)))\n",
    "print(eps)\n",
    "\n",
    "# c12bit is a misnomer since also other bit sizes are supported\n",
    "c12bit = np.maximum(np.round(c/ eps).astype(np.uint32), 1)\n",
    "\n",
    "# normalizing c12bit model\n",
    "excess = sum(c12bit) - (1 << prob_bits)\n",
    "print(f\"Excess: {excess}\")\n",
    "assert excess >= 0 and excess <= len(c)\n",
    "if excess != 0:\n",
    "    assert c12bit[excess - 1] > 1\n",
    "c12bit[:excess] -= 1\n",
    "assert c12bit.sum() == (1<< prob_bits)\n",
    "\n",
    "# creating cdf for \n",
    "cdf = np.cumsum(c12bit)\n",
    "\n",
    "# print(cdf)\n",
    "ent = np.log2(input_dim*output_dim) - c @np.log2(c) /(input_dim*output_dim)\n",
    "ce =  prob_bits - c @ np.log2(c12bit) / (c.sum())\n",
    "\n",
    "print(f\"Entropy of 4 bit  weights with full precision: {ent:.4f} bits.\")\n",
    "print(f\"Cross entropy of 4 bit  weights using {prob_bits}-bit model: {ce:.4f} bits.\")"
   ]
  }
 ],
 "metadata": {
  "kernelspec": {
   "display_name": "base",
   "language": "python",
   "name": "python3"
  },
  "language_info": {
   "codemirror_mode": {
    "name": "ipython",
    "version": 3
   },
   "file_extension": ".py",
   "mimetype": "text/x-python",
   "name": "python",
   "nbconvert_exporter": "python",
   "pygments_lexer": "ipython3",
   "version": "3.10.10"
  }
 },
 "nbformat": 4,
 "nbformat_minor": 2
}
